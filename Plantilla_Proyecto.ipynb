{
  "nbformat": 4,
  "nbformat_minor": 0,
  "metadata": {
    "colab": {
      "provenance": [],
      "include_colab_link": true
    },
    "kernelspec": {
      "name": "python3",
      "display_name": "Python 3"
    },
    "language_info": {
      "name": "python"
    }
  },
  "cells": [
    {
      "cell_type": "markdown",
      "metadata": {
        "id": "view-in-github",
        "colab_type": "text"
      },
      "source": [
        "<a href=\"https://colab.research.google.com/github/WSmithDR/espol-bootcamp-data_science/blob/m2-project/Plantilla_Proyecto.ipynb\" target=\"_parent\"><img src=\"https://colab.research.google.com/assets/colab-badge.svg\" alt=\"Open In Colab\"/></a>"
      ]
    },
    {
      "cell_type": "markdown",
      "source": [
        "### Exploración y Segmentación de Clientes\n",
        "#### Super Bank"
      ],
      "metadata": {
        "id": "YeAYHmcjNcsF"
      }
    },
    {
      "cell_type": "markdown",
      "source": [
        "\n",
        "1.   Integrante 1:\n",
        "2.   Integrante 2:\n",
        "\n"
      ],
      "metadata": {
        "id": "KIwFFAfzQuHC"
      }
    },
    {
      "cell_type": "code",
      "source": [
        "df = pd.read_csv(\"superbank.csv\")"
      ],
      "metadata": {
        "id": "rXEuvpcJRpIJ"
      },
      "execution_count": null,
      "outputs": []
    },
    {
      "cell_type": "markdown",
      "source": [
        "## 1. Análisis Exploratorio de Datos\n",
        "\n",
        "\n"
      ],
      "metadata": {
        "id": "prkIi9q_NcpR"
      }
    },
    {
      "cell_type": "markdown",
      "source": [
        "## 1.1 Tratamiento de Datos Faltantes"
      ],
      "metadata": {
        "id": "NrXHQHEYPwh9"
      }
    },
    {
      "cell_type": "code",
      "execution_count": null,
      "metadata": {
        "id": "Nu4oAcLzNXU3"
      },
      "outputs": [],
      "source": []
    },
    {
      "cell_type": "code",
      "source": [],
      "metadata": {
        "id": "OpWl7kcyPqaz"
      },
      "execution_count": null,
      "outputs": []
    },
    {
      "cell_type": "markdown",
      "source": [
        "## 1.2  Detección y Eliminación de Valores atípicos"
      ],
      "metadata": {
        "id": "rQvqy3Q_P3Nl"
      }
    },
    {
      "cell_type": "code",
      "source": [],
      "metadata": {
        "id": "4z6wSF_kPqYH"
      },
      "execution_count": null,
      "outputs": []
    },
    {
      "cell_type": "code",
      "source": [],
      "metadata": {
        "id": "FZe428UuQCDl"
      },
      "execution_count": null,
      "outputs": []
    },
    {
      "cell_type": "markdown",
      "source": [
        "## 1.3 Transformación de datos"
      ],
      "metadata": {
        "id": "QtIGeuZbQCZT"
      }
    },
    {
      "cell_type": "code",
      "source": [],
      "metadata": {
        "id": "Qfdr4OA0QOZ0"
      },
      "execution_count": null,
      "outputs": []
    },
    {
      "cell_type": "code",
      "source": [],
      "metadata": {
        "id": "5PnsC9K_QOW1"
      },
      "execution_count": null,
      "outputs": []
    },
    {
      "cell_type": "markdown",
      "source": [
        "## 1.4 Anallisis Univariado"
      ],
      "metadata": {
        "id": "jrOiXt3VQO-u"
      }
    },
    {
      "cell_type": "code",
      "source": [],
      "metadata": {
        "id": "1u_xS0pyQVKd"
      },
      "execution_count": null,
      "outputs": []
    },
    {
      "cell_type": "code",
      "source": [],
      "metadata": {
        "id": "bmRK6K_3QVHd"
      },
      "execution_count": null,
      "outputs": []
    },
    {
      "cell_type": "markdown",
      "source": [
        "## 1.5 Generación de Insights"
      ],
      "metadata": {
        "id": "BiaGj17ZQVuc"
      }
    },
    {
      "cell_type": "code",
      "source": [],
      "metadata": {
        "id": "yzuAG56MQZV5"
      },
      "execution_count": null,
      "outputs": []
    },
    {
      "cell_type": "markdown",
      "source": [
        "# 2. Clustering"
      ],
      "metadata": {
        "id": "_WCBefYEPrOx"
      }
    },
    {
      "cell_type": "markdown",
      "source": [
        "## 2.1 Aplicar Clustering"
      ],
      "metadata": {
        "id": "IBEuKfI0Qh49"
      }
    },
    {
      "cell_type": "code",
      "source": [],
      "metadata": {
        "id": "aicjwJ1kQhTk"
      },
      "execution_count": null,
      "outputs": []
    },
    {
      "cell_type": "code",
      "source": [],
      "metadata": {
        "id": "PVmUcfCMQhQF"
      },
      "execution_count": null,
      "outputs": []
    },
    {
      "cell_type": "code",
      "source": [],
      "metadata": {
        "id": "-L2TgWhwQhNZ"
      },
      "execution_count": null,
      "outputs": []
    },
    {
      "cell_type": "code",
      "source": [],
      "metadata": {
        "id": "fGD58OsWQhK3"
      },
      "execution_count": null,
      "outputs": []
    },
    {
      "cell_type": "markdown",
      "source": [
        "## 2.2 Caracterización de Clusters"
      ],
      "metadata": {
        "id": "ZIGyegRdQmXd"
      }
    },
    {
      "cell_type": "code",
      "source": [],
      "metadata": {
        "id": "UHy3tQJ4QqyR"
      },
      "execution_count": null,
      "outputs": []
    },
    {
      "cell_type": "code",
      "source": [],
      "metadata": {
        "id": "mrAI5mXEQqwC"
      },
      "execution_count": null,
      "outputs": []
    },
    {
      "cell_type": "code",
      "source": [],
      "metadata": {
        "id": "hscFASP2Qqtq"
      },
      "execution_count": null,
      "outputs": []
    },
    {
      "cell_type": "markdown",
      "source": [],
      "metadata": {
        "id": "JtnN1Y_nPq_7"
      }
    }
  ]
}