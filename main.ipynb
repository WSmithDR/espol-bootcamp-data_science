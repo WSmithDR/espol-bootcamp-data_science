{
 "cells": [
  {
   "cell_type": "code",
   "execution_count": 9,
   "id": "ea7c2cbf-107f-4b41-b6dc-7634b2a50ba6",
   "metadata": {},
   "outputs": [],
   "source": [
    "import pandas as pd"
   ]
  },
  {
   "cell_type": "code",
   "execution_count": 10,
   "id": "06fd9064",
   "metadata": {},
   "outputs": [],
   "source": [
    "sbt = pd.read_csv(\"seattle_bus_times.csv\")"
   ]
  }
 ],
 "metadata": {
  "kernelspec": {
   "display_name": "data_science_venv",
   "language": "python",
   "name": "python3"
  },
  "language_info": {
   "codemirror_mode": {
    "name": "ipython",
    "version": 3
   },
   "file_extension": ".py",
   "mimetype": "text/x-python",
   "name": "python",
   "nbconvert_exporter": "python",
   "pygments_lexer": "ipython3",
   "version": "3.11.5"
  }
 },
 "nbformat": 4,
 "nbformat_minor": 5
}
