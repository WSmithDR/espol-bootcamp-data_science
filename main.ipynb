{
 "cells": [
  {
   "cell_type": "code",
   "execution_count": 1,
   "metadata": {},
   "outputs": [],
   "source": [
    "import pandas as pd\n",
    "import seaborn as sns\n",
    "import matplotlib.pyplot as plt"
   ]
  },
  {
   "cell_type": "code",
   "execution_count": 2,
   "metadata": {},
   "outputs": [],
   "source": [
    "v = pd.read_csv(\"VuelosAgregadosMensual.csv\")"
   ]
  },
  {
   "cell_type": "code",
   "execution_count": 3,
   "metadata": {},
   "outputs": [
    {
     "name": "stdout",
     "output_type": "stream",
     "text": [
      "<class 'pandas.core.frame.DataFrame'>\n",
      "RangeIndex: 321409 entries, 0 to 321408\n",
      "Data columns (total 41 columns):\n",
      " #   Column                 Non-Null Count   Dtype  \n",
      "---  ------                 --------------   -----  \n",
      " 0   PASSENGERS             321409 non-null  float64\n",
      " 1   FREIGHT                321409 non-null  float64\n",
      " 2   MAIL                   321409 non-null  float64\n",
      " 3   DISTANCE               321409 non-null  float64\n",
      " 4   UNIQUE_CARRIER         321409 non-null  object \n",
      " 5   AIRLINE_ID             321409 non-null  int64  \n",
      " 6   UNIQUE_CARRIER_NAME    321409 non-null  object \n",
      " 7   UNIQUE_CARRIER_ENTITY  321409 non-null  object \n",
      " 8   REGION                 321409 non-null  object \n",
      " 9   CARRIER                321409 non-null  object \n",
      " 10  CARRIER_NAME           321409 non-null  object \n",
      " 11  CARRIER_GROUP          321409 non-null  int64  \n",
      " 12  CARRIER_GROUP_NEW      321409 non-null  int64  \n",
      " 13  ORIGIN_AIRPORT_ID      321409 non-null  int64  \n",
      " 14  ORIGIN_AIRPORT_SEQ_ID  321409 non-null  int64  \n",
      " 15  ORIGIN_CITY_MARKET_ID  321409 non-null  int64  \n",
      " 16  ORIGIN                 321409 non-null  object \n",
      " 17  ORIGIN_CITY_NAME       321409 non-null  object \n",
      " 18  ORIGIN_STATE_ABR       293250 non-null  object \n",
      " 19  ORIGIN_STATE_FIPS      287140 non-null  float64\n",
      " 20  ORIGIN_STATE_NM        293250 non-null  object \n",
      " 21  ORIGIN_COUNTRY         321409 non-null  object \n",
      " 22  ORIGIN_COUNTRY_NAME    321409 non-null  object \n",
      " 23  ORIGIN_WAC             321409 non-null  int64  \n",
      " 24  DEST_AIRPORT_ID        321409 non-null  int64  \n",
      " 25  DEST_AIRPORT_SEQ_ID    321409 non-null  int64  \n",
      " 26  DEST_CITY_MARKET_ID    321409 non-null  int64  \n",
      " 27  DEST                   321409 non-null  object \n",
      " 28  DEST_CITY_NAME         321409 non-null  object \n",
      " 29  DEST_STATE_ABR         292433 non-null  object \n",
      " 30  DEST_STATE_FIPS        286383 non-null  float64\n",
      " 31  DEST_STATE_NM          292433 non-null  object \n",
      " 32  DEST_COUNTRY           321409 non-null  object \n",
      " 33  DEST_COUNTRY_NAME      321409 non-null  object \n",
      " 34  DEST_WAC               321409 non-null  int64  \n",
      " 35  YEAR                   321409 non-null  int64  \n",
      " 36  QUARTER                321409 non-null  int64  \n",
      " 37  MONTH                  321409 non-null  int64  \n",
      " 38  DISTANCE_GROUP         321409 non-null  int64  \n",
      " 39  CLASS                  321409 non-null  object \n",
      " 40  DATA_SOURCE            321409 non-null  object \n",
      "dtypes: float64(6), int64(15), object(20)\n",
      "memory usage: 100.5+ MB\n"
     ]
    }
   ],
   "source": [
    "v.info()"
   ]
  },
  {
   "cell_type": "code",
   "execution_count": 4,
   "metadata": {},
   "outputs": [],
   "source": [
    "v = v.rename(columns={\"CLASS\":\"CLASE\"})"
   ]
  },
  {
   "cell_type": "code",
   "execution_count": 6,
   "metadata": {},
   "outputs": [
    {
     "data": {
      "text/plain": [
       "Index(['PASSENGERS', 'FREIGHT', 'MAIL', 'DISTANCE', 'UNIQUE_CARRIER',\n",
       "       'AIRLINE_ID', 'UNIQUE_CARRIER_NAME', 'UNIQUE_CARRIER_ENTITY', 'REGION',\n",
       "       'CARRIER', 'CARRIER_NAME', 'CARRIER_GROUP', 'CARRIER_GROUP_NEW',\n",
       "       'ORIGIN_AIRPORT_ID', 'ORIGIN_AIRPORT_SEQ_ID', 'ORIGIN_CITY_MARKET_ID',\n",
       "       'ORIGIN', 'ORIGIN_CITY_NAME', 'ORIGIN_STATE_ABR', 'ORIGIN_STATE_FIPS',\n",
       "       'ORIGIN_STATE_NM', 'ORIGIN_COUNTRY', 'ORIGIN_COUNTRY_NAME',\n",
       "       'ORIGIN_WAC', 'DEST_AIRPORT_ID', 'DEST_AIRPORT_SEQ_ID',\n",
       "       'DEST_CITY_MARKET_ID', 'DEST', 'DEST_CITY_NAME', 'DEST_STATE_ABR',\n",
       "       'DEST_STATE_FIPS', 'DEST_STATE_NM', 'DEST_COUNTRY', 'DEST_COUNTRY_NAME',\n",
       "       'DEST_WAC', 'YEAR', 'QUARTER', 'MONTH', 'DISTANCE_GROUP', 'CLASE',\n",
       "       'DATA_SOURCE'],\n",
       "      dtype='object')"
      ]
     },
     "execution_count": 6,
     "metadata": {},
     "output_type": "execute_result"
    }
   ],
   "source": [
    "v.columns"
   ]
  },
  {
   "cell_type": "code",
   "execution_count": 7,
   "metadata": {},
   "outputs": [],
   "source": [
    "v = v.rename(lambda colname: colname.lower(), axis=1)"
   ]
  },
  {
   "cell_type": "code",
   "execution_count": 8,
   "metadata": {},
   "outputs": [
    {
     "data": {
      "text/plain": [
       "Index(['passengers', 'freight', 'mail', 'distance', 'unique_carrier',\n",
       "       'airline_id', 'unique_carrier_name', 'unique_carrier_entity', 'region',\n",
       "       'carrier', 'carrier_name', 'carrier_group', 'carrier_group_new',\n",
       "       'origin_airport_id', 'origin_airport_seq_id', 'origin_city_market_id',\n",
       "       'origin', 'origin_city_name', 'origin_state_abr', 'origin_state_fips',\n",
       "       'origin_state_nm', 'origin_country', 'origin_country_name',\n",
       "       'origin_wac', 'dest_airport_id', 'dest_airport_seq_id',\n",
       "       'dest_city_market_id', 'dest', 'dest_city_name', 'dest_state_abr',\n",
       "       'dest_state_fips', 'dest_state_nm', 'dest_country', 'dest_country_name',\n",
       "       'dest_wac', 'year', 'quarter', 'month', 'distance_group', 'clase',\n",
       "       'data_source'],\n",
       "      dtype='object')"
      ]
     },
     "execution_count": 8,
     "metadata": {},
     "output_type": "execute_result"
    }
   ],
   "source": [
    "v.columns"
   ]
  },
  {
   "cell_type": "code",
   "execution_count": 19,
   "metadata": {},
   "outputs": [],
   "source": [
    "v_f = v.query('clase==\"F\"')\\\n",
    ".groupby(\"unique_carrier_name\").passengers.sum()\\\n",
    ".nlargest(5)"
   ]
  },
  {
   "cell_type": "code",
   "execution_count": 20,
   "metadata": {},
   "outputs": [
    {
     "data": {
      "text/plain": [
       "unique_carrier_name\n",
       "Southwest Airlines Co.    162681011.0\n",
       "Delta Air Lines Inc.      162260114.0\n",
       "American Airlines Inc.    155782611.0\n",
       "United Air Lines Inc.     116212143.0\n",
       "JetBlue Airways            42830602.0\n",
       "Name: passengers, dtype: float64"
      ]
     },
     "execution_count": 20,
     "metadata": {},
     "output_type": "execute_result"
    }
   ],
   "source": [
    "v_f"
   ]
  }
 ],
 "metadata": {
  "kernelspec": {
   "display_name": "data_science_venv",
   "language": "python",
   "name": "python3"
  },
  "language_info": {
   "codemirror_mode": {
    "name": "ipython",
    "version": 3
   },
   "file_extension": ".py",
   "mimetype": "text/x-python",
   "name": "python",
   "nbconvert_exporter": "python",
   "pygments_lexer": "ipython3",
   "version": "3.11.5"
  }
 },
 "nbformat": 4,
 "nbformat_minor": 2
}
