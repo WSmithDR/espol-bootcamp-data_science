{
 "cells": [
  {
   "cell_type": "code",
   "execution_count": 21,
   "metadata": {},
   "outputs": [],
   "source": [
    "import pandas as pd"
   ]
  },
  {
   "cell_type": "code",
   "execution_count": null,
   "metadata": {},
   "outputs": [],
   "source": [
    "ages = [18, 20, 23, 25, 28, 35, 40, 45, 50, 65, 70, 80]\n",
    "bins = [17, 25, 40, 65, 100]\n",
    "labels = [\"Universitarios\", \"Profesionales jovenes\", \"Adultos\",\"Tercera edad\"]"
   ]
  }
 ],
 "metadata": {
  "kernelspec": {
   "display_name": "data_science_venv",
   "language": "python",
   "name": "python3"
  },
  "language_info": {
   "codemirror_mode": {
    "name": "ipython",
    "version": 3
   },
   "file_extension": ".py",
   "mimetype": "text/x-python",
   "name": "python",
   "nbconvert_exporter": "python",
   "pygments_lexer": "ipython3",
   "version": "3.11.5"
  }
 },
 "nbformat": 4,
 "nbformat_minor": 2
}
