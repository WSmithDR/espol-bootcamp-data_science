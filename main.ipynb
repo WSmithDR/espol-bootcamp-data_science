{
 "cells": [
  {
   "cell_type": "code",
   "execution_count": null,
   "metadata": {},
   "outputs": [],
   "source": [
    "texts = [\n",
    "   \"la atencion en este sitio es mala ya quiero volver a casa\",\n",
    "   \"eficiente y comodo\",\n",
    "   \"Cálida bienvenida, personal eficiente\",\n",
    "   \"este sitio es muy bueno y la atencion es de lo mejor\",\n",
    "   \"la atencion en este sitio es mala ya quiero volver a casa\",\n",
    "   \"espero nunca jamas volver a un lugar tan despreciable y triste como este\",\n",
    "   \"Me encanta este producto, es realmente fantástico.\",\n",
    "   \"Estoy muy decepcionado con el servicio.\",\n",
    "   \"La película fue bastante aburrida.\",\n",
    "   \"¡Qué experiencia tan increíble!\",\n",
    "   \"No volveré a comprar aquí, pésima atención al cliente.\"\n",
    "]\n"
   ]
  }
 ],
 "metadata": {
  "kernelspec": {
   "display_name": "data_science_venv",
   "language": "python",
   "name": "python3"
  },
  "language_info": {
   "codemirror_mode": {
    "name": "ipython",
    "version": 3
   },
   "file_extension": ".py",
   "mimetype": "text/x-python",
   "name": "python",
   "nbconvert_exporter": "python",
   "pygments_lexer": "ipython3",
   "version": "3.11.5"
  }
 },
 "nbformat": 4,
 "nbformat_minor": 2
}
